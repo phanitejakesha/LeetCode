{
 "cells": [
  {
   "cell_type": "code",
   "execution_count": 4,
   "metadata": {
    "collapsed": true
   },
   "outputs": [],
   "source": [
    "def createLongestBlossoms(arr):\n",
    "    hashVal = {}\n",
    "    globalHashValues = {} # a hashmap which is connected to its parent \n",
    "    for i in arr:\n",
    "        leftVal = i-1\n",
    "        rightVal = i+1\n",
    "        if leftVal in hashVal and rightVal in hashVal:\n",
    "            pass\n",
    "        elif leftVal in hashVal:\n",
    "            hashVal[leftVal].append(i)\n",
    "        elif rightVal in hashVal:\n",
    "            hashVal[rightVal].append(i)\n",
    "        else:\n",
    "            hashVal[i]=[i]\n",
    "    print(hashVal)"
   ]
  },
  {
   "cell_type": "code",
   "execution_count": 5,
   "metadata": {},
   "outputs": [
    {
     "name": "stdout",
     "output_type": "stream",
     "text": [
      "{1: [1, 2], 7: [7, 6], 4: [4, 3, 5]}\n"
     ]
    }
   ],
   "source": [
    "createLongestBlossoms([1,2,7,6,4,3,5])"
   ]
  },
  {
   "cell_type": "code",
   "execution_count": null,
   "metadata": {
    "collapsed": true
   },
   "outputs": [],
   "source": []
  }
 ],
 "metadata": {
  "kernelspec": {
   "display_name": "Python 3",
   "language": "python",
   "name": "python3"
  },
  "language_info": {
   "codemirror_mode": {
    "name": "ipython",
    "version": 3
   },
   "file_extension": ".py",
   "mimetype": "text/x-python",
   "name": "python",
   "nbconvert_exporter": "python",
   "pygments_lexer": "ipython3",
   "version": "3.6.3"
  }
 },
 "nbformat": 4,
 "nbformat_minor": 2
}
