{
 "cells": [
  {
   "cell_type": "code",
   "execution_count": 29,
   "metadata": {},
   "outputs": [
    {
     "name": "stdout",
     "output_type": "stream",
     "text": [
      "[0, 0, 1]\n"
     ]
    }
   ],
   "source": [
    "origin = [1,2,3]\n",
    "dest = [4,5,6]\n",
    "t = 2\n",
    "\n",
    "\n",
    "divMap = {}\n",
    "for i in range(0,len(origin)):\n",
    "    divMap[origin[i]] = divisors(origin[i])\n",
    "for i in range(0,len(dest)):\n",
    "    divMap[dest[i]] = divisors(dest[i])\n",
    "\n",
    "\n",
    "queryRes = []\n",
    "for i in range(0,len(origin)):\n",
    "    l = divMap[origin[i]].intersection(divMap[dest[i]])\n",
    "    l = sorted(l)\n",
    "    if len(l)!=0:\n",
    "        if l[-1]>t:\n",
    "            queryRes.append(1)\n",
    "        else:\n",
    "            queryRes.append(0)\n",
    "    else:\n",
    "        queryRes.append(0)\n",
    "\n",
    "print(queryRes)"
   ]
  },
  {
   "cell_type": "code",
   "execution_count": 30,
   "metadata": {
    "collapsed": true
   },
   "outputs": [],
   "source": []
  },
  {
   "cell_type": "code",
   "execution_count": 31,
   "metadata": {},
   "outputs": [
    {
     "data": {
      "text/plain": [
       "{1, 2, 3.0, 6}"
      ]
     },
     "execution_count": 31,
     "metadata": {},
     "output_type": "execute_result"
    }
   ],
   "source": [
    "divisors(6)"
   ]
  },
  {
   "cell_type": "code",
   "execution_count": 42,
   "metadata": {},
   "outputs": [],
   "source": [
    "def connectedCities(n,g,originCities,destinationCities):\n",
    "    divMap = {}\n",
    "    for i in range(0,len(originCities)):\n",
    "        divMap[originCities[i]] = divisors(originCities[i])\n",
    "    for i in range(0,len(destinationCities)):\n",
    "        divMap[destinationCities[i]] = divisors(destinationCities[i])\n",
    "    \n",
    "    queryRes = []\n",
    "    for i in range(0,len(originCities)):\n",
    "        l = divMap[originCities[i]].intersection(divMap[destinationCities[i]])\n",
    "        l = sorted(l)\n",
    "        if len(l)!=0:\n",
    "            if l[-1]>g:\n",
    "                queryRes.append(1)\n",
    "            else:\n",
    "                queryRes.append(0)\n",
    "        else:\n",
    "            queryRes.append(0)\n",
    "    return queryRes\n",
    "\n",
    "\n",
    "import math\n",
    "def divisors(n):\n",
    "    divs = [1]\n",
    "    for i in range(2,int(math.sqrt(n))+1):\n",
    "        if n%i == 0:\n",
    "            divs.extend([i,n/i])\n",
    "    divs.extend([n])\n",
    "    return set(divs)"
   ]
  },
  {
   "cell_type": "code",
   "execution_count": 44,
   "metadata": {},
   "outputs": [
    {
     "data": {
      "text/plain": [
       "[1, 1, 1, 1]"
      ]
     },
     "execution_count": 44,
     "metadata": {},
     "output_type": "execute_result"
    }
   ],
   "source": [
    "connectedCities(4,0,[1,4,3,6],[3,6,2,5])"
   ]
  },
  {
   "cell_type": "code",
   "execution_count": null,
   "metadata": {
    "collapsed": true
   },
   "outputs": [],
   "source": []
  }
 ],
 "metadata": {
  "kernelspec": {
   "display_name": "Python 3",
   "language": "python",
   "name": "python3"
  },
  "language_info": {
   "codemirror_mode": {
    "name": "ipython",
    "version": 3
   },
   "file_extension": ".py",
   "mimetype": "text/x-python",
   "name": "python",
   "nbconvert_exporter": "python",
   "pygments_lexer": "ipython3",
   "version": "3.6.3"
  }
 },
 "nbformat": 4,
 "nbformat_minor": 2
}
