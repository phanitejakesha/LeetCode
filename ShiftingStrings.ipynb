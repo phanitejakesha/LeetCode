{
 "cells": [
  {
   "cell_type": "code",
   "execution_count": 2,
   "metadata": {
    "collapsed": true
   },
   "outputs": [],
   "source": [
    "def stringLeftRotate(s,l,r):\n",
    "    if len(s)==0:\n",
    "        return \"\"\n",
    "    num = l-r\n",
    "    if num>0:\n",
    "        num = num%len(s)\n",
    "        while num!=0:\n",
    "            s = s[1:]+s[0:1]\n",
    "            num = num-1\n",
    "        print(s,\"r\")\n",
    "    else:\n",
    "        temp = abs(num)%len(s)\n",
    "        num = temp*-1\n",
    "        while num!=0:\n",
    "            s = s[len(s)-1:]+s[0:len(s)-1]\n",
    "            num = num+1\n",
    "        print(s,'l')"
   ]
  },
  {
   "cell_type": "code",
   "execution_count": 4,
   "metadata": {},
   "outputs": [
    {
     "name": "stdout",
     "output_type": "stream",
     "text": [
      "dabc l\n"
     ]
    }
   ],
   "source": [
    "stringLeftRotate(\"abcd\",1,2)"
   ]
  },
  {
   "cell_type": "code",
   "execution_count": null,
   "metadata": {
    "collapsed": true
   },
   "outputs": [],
   "source": []
  }
 ],
 "metadata": {
  "kernelspec": {
   "display_name": "Python 3",
   "language": "python",
   "name": "python3"
  },
  "language_info": {
   "codemirror_mode": {
    "name": "ipython",
    "version": 3
   },
   "file_extension": ".py",
   "mimetype": "text/x-python",
   "name": "python",
   "nbconvert_exporter": "python",
   "pygments_lexer": "ipython3",
   "version": "3.6.3"
  }
 },
 "nbformat": 4,
 "nbformat_minor": 2
}
