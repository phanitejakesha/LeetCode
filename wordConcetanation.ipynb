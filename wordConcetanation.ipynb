{
 "cells": [
  {
   "cell_type": "code",
   "execution_count": 10,
   "metadata": {
    "collapsed": true
   },
   "outputs": [],
   "source": [
    "phrases = ['code rocks','rocks fails','rock you code']"
   ]
  },
  {
   "cell_type": "code",
   "execution_count": 13,
   "metadata": {},
   "outputs": [
    {
     "name": "stdout",
     "output_type": "stream",
     "text": [
      "{'rocks': ['code rocks'], 'fails': ['rocks fails'], 'code': ['rock you code']} {'code': ['code rocks'], 'rocks': ['rocks fails'], 'rock': ['rock you code']}\n",
      "['code rocks fails', 'rock you code rocks']\n"
     ]
    }
   ],
   "source": [
    "dictS = {}\n",
    "dictE = {}\n",
    "for key in phrases:\n",
    "    li = key.split()\n",
    "    if li[0] in dictS:\n",
    "        dictS[li[0]].append(key)\n",
    "    else:\n",
    "        dictS[li[0]] = [key]\n",
    "    if li[-1] in dictE:\n",
    "        dictE[li[-1]].append(key)\n",
    "    else:\n",
    "        dictE[li[-1]] = [key]\n",
    "print(dictE,dictS)\n",
    "\n",
    "\n",
    "result = []\n",
    "for i in phrases:\n",
    "    splitWord = i.split()\n",
    "    if splitWord[-1] in dictS:\n",
    "        for j in dictS[splitWord[-1]]:\n",
    "            result.append(i +' '+ ''.join(j.split()[1:]))\n",
    "            \n",
    "# for i in phrases:\n",
    "#     splitWord = i.split()\n",
    "#     if splitWord[-1] in dictS:\n",
    "#         for j in dictS[splitWord[-1]]:\n",
    "#             result.append(i +' '+ ''.join(j.split()[1:]))\n",
    "\n",
    "print(result)\n",
    "        "
   ]
  },
  {
   "cell_type": "code",
   "execution_count": null,
   "metadata": {
    "collapsed": true
   },
   "outputs": [],
   "source": []
  }
 ],
 "metadata": {
  "kernelspec": {
   "display_name": "Python 3",
   "language": "python",
   "name": "python3"
  },
  "language_info": {
   "codemirror_mode": {
    "name": "ipython",
    "version": 3
   },
   "file_extension": ".py",
   "mimetype": "text/x-python",
   "name": "python",
   "nbconvert_exporter": "python",
   "pygments_lexer": "ipython3",
   "version": "3.6.3"
  }
 },
 "nbformat": 4,
 "nbformat_minor": 2
}
